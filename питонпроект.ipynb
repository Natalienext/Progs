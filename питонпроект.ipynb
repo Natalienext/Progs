{
 "cells": [
  {
   "cell_type": "code",
   "execution_count": null,
   "metadata": {
    "collapsed": true
   },
   "outputs": [],
   "source": [
    "import requests\n",
    "import json\n",
    "\n",
    "token= ''   # токен\n",
    "\n",
    "class work:\n",
    "    def __init_ (self):\n",
    "        \n",
    "        \n",
    "    URL = 'https://api.telegram.org/bot ' + token + '/' # обращение к API телеграма   \n",
    "        \n",
    "    def change ():  #преобразование название населенного пункта в код для Яндекса\n",
    "        pass \n",
    "    \n",
    "\n",
    "    def get_updates():                   #получение словаря обновлений\n",
    "        url = URL + 'getupdates'\n",
    "        response = requests.get(url)\n",
    "        return response.json()\n",
    "    \n",
    "    def get_message():                  #получение текста сообщения\n",
    "        data = get_updates()\n",
    "        chat_id = data['result'][-1]['message']['chat']['id']\n",
    "        text = data['result'][-1]['message']['text']\n",
    "        \n",
    "        message = {'chat_id':chat_id,'text':text}\n",
    "        return message\n",
    "    \n",
    "    def get_way():                 #получение маршрута\n",
    "        \n",
    "        data = get_message()\n",
    "        punkts = data['text'].split(' ')   \n",
    "        otkuda = change(punkts[0])\n",
    "        kuda = change(punkts[1]) \n",
    "        apikey = ' '                 #ключ доступа к API\n",
    "        url='https://api.rasp.yandex.net/v3.0/search/?'+ apikey + '&' kuda + '&' otkuda\n",
    "        re = requests.get(url)\n",
    "        return re.json()\n",
    "    \n",
    "    def send_message (chat_id): \n",
    "        \n",
    "        text = get_way()\n",
    "        \n",
    "        send_text = text       #тут надо еще подумать, какие данные печатать\n",
    "        \n",
    "        url = URL + 'sendmessage?chat_id{}&send_text={}'.format(chat_id, send_text)\n",
    "        requests.get(url)\n",
    "        \n",
    "        \n",
    "        \n",
    "        \n",
    "        \n",
    "        \n",
    "        \n",
    "        \n",
    "    "
   ]
  }
 ],
 "metadata": {
  "kernelspec": {
   "display_name": "Python 3",
   "language": "python",
   "name": "python3"
  },
  "language_info": {
   "codemirror_mode": {
    "name": "ipython",
    "version": 3
   },
   "file_extension": ".py",
   "mimetype": "text/x-python",
   "name": "python",
   "nbconvert_exporter": "python",
   "pygments_lexer": "ipython3",
   "version": "3.6.1"
  }
 },
 "nbformat": 4,
 "nbformat_minor": 2
}
